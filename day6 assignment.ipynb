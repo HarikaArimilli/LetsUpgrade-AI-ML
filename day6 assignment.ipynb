{
 "cells": [
  {
   "cell_type": "markdown",
   "metadata": {},
   "source": [
    " # Question1: Assuming that we have some email addresses in the \"username@companyname.com\" format, please write program to print the company name of a given email address.Both user names and company names are composed of letters only"
   ]
  },
  {
   "cell_type": "code",
   "execution_count": 2,
   "metadata": {},
   "outputs": [
    {
     "name": "stdout",
     "output_type": "stream",
     "text": [
      "EMAIL :abc@gmail.com\n",
      "gmail\n"
     ]
    }
   ],
   "source": [
    "email=input(\"EMAIL :\")\n",
    "ind1=email.find('@')\n",
    "ind2=email.find('.')\n",
    "company_name=email[ind1+1:ind2]\n",
    "print(company_name)"
   ]
  },
  {
   "cell_type": "markdown",
   "metadata": {},
   "source": [
    "# Question 2: Write a program that accepts a comma-separated sequence of words as input and prints the words in a comma seperated sequence after sorting them alphabetically\n"
   ]
  },
  {
   "cell_type": "code",
   "execution_count": 8,
   "metadata": {},
   "outputs": [
    {
     "name": "stdout",
     "output_type": "stream",
     "text": [
      "enter sequence of words :harika,lasya,charan\n",
      "sorted sequence of words are : charan,harika,lasya\n"
     ]
    }
   ],
   "source": [
    "names=input(\"enter sequence of words :\").split(',')\n",
    "names.sort()\n",
    "print(\"sorted sequence of words are :\", ','.join(words))"
   ]
  },
  {
   "cell_type": "markdown",
   "metadata": {},
   "source": [
    "# Question 4: Given a list of n-1 numbers ranging from 1 to n, your task is to find the missing number. There are no duplicates."
   ]
  },
  {
   "cell_type": "code",
   "execution_count": 23,
   "metadata": {},
   "outputs": [
    {
     "name": "stdout",
     "output_type": "stream",
     "text": [
      "enter input :1 3 2 4 \n",
      "5.0\n"
     ]
    }
   ],
   "source": [
    "def getMissingNo(a): \n",
    "    n = len(a) \n",
    "    total = (n + 1)*(n + 2)/2\n",
    "    sum_of_A = sum(a) \n",
    "    return total - sum_of_A \n",
    "  \n",
    "A = list(map(int,input(\"enter input :\").split()))\n",
    "miss=getMissingNo(A) \n",
    "print(miss)"
   ]
  },
  {
   "cell_type": "markdown",
   "metadata": {},
   "source": [
    "# Question 5:With a given list L, write a program to print this list L after removing all duplicate values with original order reserved"
   ]
  },
  {
   "cell_type": "code",
   "execution_count": 30,
   "metadata": {},
   "outputs": [
    {
     "name": "stdout",
     "output_type": "stream",
     "text": [
      "enter input :1 2 2 3 4 3 2 4 5 6 5 7 6 8\n",
      "[1, 2, 3, 4, 5, 6, 7, 8]\n"
     ]
    }
   ],
   "source": [
    "def duplicate(A):\n",
    "    final_lst=[]\n",
    "    for i in A:\n",
    "        if i  in final_lst:\n",
    "            continue\n",
    "        else:\n",
    "            final_lst.append(i)\n",
    "    return final_lst\n",
    "A=list(map(int,input(\"enter input :\").split()))\n",
    "duplicate(A)\n",
    "print(duplicate(A))"
   ]
  },
  {
   "cell_type": "markdown",
   "metadata": {},
   "source": [
    " # Question 3: Create your own Jupyter Notebook for Sets"
   ]
  },
  {
   "cell_type": "markdown",
   "metadata": {},
   "source": [
    "# Set :\n"
   ]
  },
  {
   "cell_type": "markdown",
   "metadata": {},
   "source": [
    "A Set is an unordered collection data type that is iterable, mutable and has no duplicate elements.. In Python sets are written with {}."
   ]
  },
  {
   "cell_type": "markdown",
   "metadata": {},
   "source": [
    "## creating sets"
   ]
  },
  {
   "cell_type": "code",
   "execution_count": 2,
   "metadata": {},
   "outputs": [
    {
     "name": "stdout",
     "output_type": "stream",
     "text": [
      "{'ai', 'letsupgrade', 'ml'}\n"
     ]
    }
   ],
   "source": [
    "set={'letsupgrade','ai','ml'}\n",
    "print(set)"
   ]
  },
  {
   "cell_type": "markdown",
   "metadata": {},
   "source": [
    "## Since sets are unordered we cannot access elements using index as in list "
   ]
  },
  {
   "cell_type": "markdown",
   "metadata": {},
   "source": [
    "but we can access elements using for loop and check whether the element is present in sets using in keyword"
   ]
  },
  {
   "cell_type": "code",
   "execution_count": 12,
   "metadata": {},
   "outputs": [
    {
     "name": "stdout",
     "output_type": "stream",
     "text": [
      "ai\n",
      "letsupgrade\n",
      "ml\n",
      "True\n"
     ]
    }
   ],
   "source": [
    "#accessing items using for loop\n",
    "set={'letsupgrade','ai','ml'}\n",
    "\n",
    "for i in set:\n",
    "    \n",
    "    print(i)\n",
    "    \n",
    "# checking if element is present in set\n",
    "\n",
    "print(\"ai\" in set)"
   ]
  },
  {
   "cell_type": "markdown",
   "metadata": {},
   "source": [
    "__once set is created we cannot change the set but can add new elements__"
   ]
  },
  {
   "cell_type": "markdown",
   "metadata": {},
   "source": [
    "#### Using add() method:"
   ]
  },
  {
   "cell_type": "markdown",
   "metadata": {},
   "source": [
    "-  Elements can be added to the Set by using built-in add() function. Only one element at a time can be added to the set by using add() method, loops are used to add multiple elements at a time with the use of add() method."
   ]
  },
  {
   "cell_type": "markdown",
   "metadata": {},
   "source": [
    "-  lists cannot be added to set since lists are not hashable where as tuples can be added because tuples are immutable and hashable"
   ]
  },
  {
   "cell_type": "code",
   "execution_count": 13,
   "metadata": {},
   "outputs": [
    {
     "name": "stdout",
     "output_type": "stream",
     "text": [
      "{'ai', 'dl', 'letsupgrade', 'ml'}\n",
      "{0, 1, 2, 3, 'ai', 'letsupgrade', 4, 5, 'dl', 'ml'}\n",
      "{0, 1, 2, 3, 'ai', 'letsupgrade', 4, 5, 'neural networks', 'nlp', 'dl', 'ml', 'cv'}\n"
     ]
    }
   ],
   "source": [
    "set={'letsupgrade','ai','ml'}            #adding on element with add() method\n",
    "\n",
    "set.add(\"dl\")\n",
    "\n",
    "print(set)\n",
    "\n",
    "for i in range(6): #adding multiple elements with add() method\n",
    "    set.add(i)\n",
    "    \n",
    "print(set)\n",
    "                                          # adding multiple elements using update() method\n",
    "set.update(['cv','neural networks','nlp'])\n",
    "print(set)"
   ]
  },
  {
   "cell_type": "markdown",
   "metadata": {},
   "source": [
    "#### using remove() method :"
   ]
  },
  {
   "cell_type": "markdown",
   "metadata": {},
   "source": [
    "-  Elements can be removed from the Set by using built-in remove() function but a KeyError arises if element doesn’t exist in the set. To remove elements from a set without KeyError, use discard(), if the element doesn’t exist in the set, it remains unchanged."
   ]
  },
  {
   "cell_type": "code",
   "execution_count": 11,
   "metadata": {},
   "outputs": [
    {
     "name": "stdout",
     "output_type": "stream",
     "text": [
      "{'letsupgrade', 'ml'}\n",
      "{'letsupgrade', 'ml'}\n"
     ]
    }
   ],
   "source": [
    "set={'letsupgrade','ai','ml'}\n",
    "\n",
    "set.remove('ai')   #using remove method\n",
    "\n",
    "print(set)\n",
    "\n",
    "set.discard('ML')   #using discard method\n",
    "\n",
    "print(set)"
   ]
  },
  {
   "cell_type": "markdown",
   "metadata": {},
   "source": [
    "#### clear() method  : it clears the set"
   ]
  },
  {
   "cell_type": "code",
   "execution_count": 17,
   "metadata": {},
   "outputs": [
    {
     "name": "stdout",
     "output_type": "stream",
     "text": [
      "set()\n"
     ]
    }
   ],
   "source": [
    "set={'letsupgrade','ai','ml'}\n",
    "set.clear()\n",
    "print(set)"
   ]
  },
  {
   "cell_type": "markdown",
   "metadata": {},
   "source": [
    "#### pop() method :   it removes the last item,since sets are unordered.we don't know which element will get removed last.\n",
    "#### The return value of the pop() method is the removed item."
   ]
  },
  {
   "cell_type": "code",
   "execution_count": 19,
   "metadata": {},
   "outputs": [
    {
     "name": "stdout",
     "output_type": "stream",
     "text": [
      "ai\n",
      "{'letsupgrade', 'ml'}\n"
     ]
    }
   ],
   "source": [
    "set={'letsupgrade','ai','ml'}\n",
    "x=set.pop()\n",
    "print(x)\n",
    "print(set)"
   ]
  },
  {
   "cell_type": "markdown",
   "metadata": {},
   "source": [
    "#### del keyword :it will delete the set completely\n"
   ]
  },
  {
   "cell_type": "code",
   "execution_count": 21,
   "metadata": {},
   "outputs": [
    {
     "name": "stdout",
     "output_type": "stream",
     "text": [
      "<class 'set'>\n"
     ]
    }
   ],
   "source": [
    "set={'letsupgrade','ai','ml'}\n",
    "del set\n",
    "print(set)"
   ]
  },
  {
   "cell_type": "markdown",
   "metadata": {},
   "source": [
    "# some set functions:"
   ]
  },
  {
   "cell_type": "markdown",
   "metadata": {},
   "source": [
    "- len() : To determine how many items a set has, use the len() method.\n",
    "- copy() : Returns a copy of the set\n",
    "- difference(): Returns a set containing the difference between two or more sets\n",
    "- intersection() :Returns a set containing the difference between two or more sets\n",
    "- isdisjoint() :Returns whether two sets have a intersection or not\n",
    "- union() :Return a set containing the union of sets\n",
    "- issubset():Returns whether another set contains this set or not\n",
    "- issuperset():Returns whether another set contains this set or not\n",
    "- symmetric_difference():Returns a set with the symmetric differences of two sets"
   ]
  },
  {
   "cell_type": "code",
   "execution_count": null,
   "metadata": {},
   "outputs": [],
   "source": []
  }
 ],
 "metadata": {
  "kernelspec": {
   "display_name": "Python 3",
   "language": "python",
   "name": "python3"
  },
  "language_info": {
   "codemirror_mode": {
    "name": "ipython",
    "version": 3
   },
   "file_extension": ".py",
   "mimetype": "text/x-python",
   "name": "python",
   "nbconvert_exporter": "python",
   "pygments_lexer": "ipython3",
   "version": "3.7.6"
  }
 },
 "nbformat": 4,
 "nbformat_minor": 4
}
