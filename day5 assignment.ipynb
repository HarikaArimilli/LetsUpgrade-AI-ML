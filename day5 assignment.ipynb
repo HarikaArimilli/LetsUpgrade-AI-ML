{
 "cells": [
  {
   "cell_type": "markdown",
   "metadata": {},
   "source": [
    "# Question 1:"
   ]
  },
  {
   "cell_type": "code",
   "execution_count": 1,
   "metadata": {},
   "outputs": [
    {
     "name": "stdout",
     "output_type": "stream",
     "text": [
      "how many prime numbers required??20\n",
      "3 5 7 11 13 17 19 23 29 31 37 41 43 47 53 59 61 67 71 73 "
     ]
    }
   ],
   "source": [
    "x=int(input(\"how many prime numbers required??\"))\n",
    "nos=range(1,x*10)\n",
    "prime_nos=[]\n",
    "for num in nos:\n",
    "    if num>2 and len(prime_nos)<x:\n",
    "        for i in range(2,num):\n",
    "            if(num%i==0):\n",
    "                break\n",
    "        else:\n",
    "                prime_nos.append(num)\n",
    "for x in prime_nos:\n",
    "    print(x,end=' ')\n"
   ]
  },
  {
   "cell_type": "markdown",
   "metadata": {},
   "source": [
    "# Question 2:"
   ]
  },
  {
   "cell_type": "code",
   "execution_count": 28,
   "metadata": {},
   "outputs": [
    {
     "name": "stdout",
     "output_type": "stream",
     "text": [
      "hello world\n",
      "HELLO WORLD\n",
      "hELLO WORLD\n",
      "aHello worldIHello world/Hello worldMHello worldL\n",
      "False\n",
      "4\n",
      "False\n",
      "3\n",
      "False\n",
      "Ai/ml\n",
      "9\n",
      "('aI', '/', 'ML')\n",
      "AI/ML\n",
      "hello world\n",
      "Hello World\n",
      "['aI', 'ML']\n"
     ]
    }
   ],
   "source": [
    "string1=\"Hello world\"\n",
    "string2=\"aI/ML\"\n",
    "print(string1.lower()) #Converts a string into upper case\n",
    "print(string1.upper()) #Converts a string into lower case\n",
    "print(string1.swapcase()) #swap cases\n",
    "print(string1.join(string2)) #Joins the elements of an iterable to the end of the string\n",
    "print(string2.isalnum()) #Returns True if all characters in the string are alphanumeric\n",
    "print(string1.find('o')) #Searches the string for a specified value and returns the position of where it was found\n",
    "print(string1.endswith('e')) #Returns true if the string ends with the specified value\n",
    "print(string1.count('l')) #Returns the number of times a specified value occurs in a string\n",
    "print(string1.startswith('h'))#Returns true if the string starts with the specified value\n",
    "print(string2.capitalize()) #Returns the number of times a specified value occurs in a string\n",
    "print(string1.rindex('l')) #Searches the string for a specified value and returns the last position of where it was found\n",
    "print(string2.partition('/')) #Returns a tuple where the string is parted into three parts\n",
    "print(string2.replace('a','A')) #Returns a string where a specified value is replaced with a specified value\n",
    "string3=\"   hello world\"\n",
    "print(string3.strip()) #Returns a trimmed version of the string\n",
    "print(string1.title()) #Converts the first character of each word to upper case\n",
    "print(string2.split('/')) #Splits the string at the specified separator, and returns a list"
   ]
  },
  {
   "cell_type": "markdown",
   "metadata": {},
   "source": [
    "# Question 3 :"
   ]
  },
  {
   "cell_type": "code",
   "execution_count": 4,
   "metadata": {},
   "outputs": [
    {
     "name": "stdout",
     "output_type": "stream",
     "text": [
      "enter first string :dad\n",
      "enter second string :add\n",
      "both palindrome and anagram\n"
     ]
    }
   ],
   "source": [
    "string_1=input(\"enter first string :\")\n",
    "string_2=input(\"enter second string :\")\n",
    "list_1=[]\n",
    "rev_list1=[]\n",
    "list_2=[]\n",
    "for i in string_1:\n",
    "    list_1.append(i)\n",
    "    rev_list1.insert(0,i)\n",
    "if str(list_1)==str(rev_list1) and sorted(string_1)==sorted(string_2):\n",
    "    print(\"both palindrome and anagram\")\n",
    "    \n",
    "elif str(list_1)==str(rev_list1):\n",
    "    print(\"it is a palindrome\")\n",
    "    \n",
    "else:\n",
    "    if sorted(string_1)==sorted(string_2):\n",
    "        \n",
    "        print(\"it is anagram\")\n",
    "        \n",
    "    else:\n",
    "        print(\"none\")\n",
    "        \n"
   ]
  },
  {
   "cell_type": "code",
   "execution_count": 7,
   "metadata": {},
   "outputs": [
    {
     "name": "stdout",
     "output_type": "stream",
     "text": [
      "string is :  Dr. Darshan Ingle@AI-ML Trainer\n",
      "remove all the invalid chars\n",
      "string is drdarshaningleaimltrainer\n"
     ]
    }
   ],
   "source": [
    "def remove_char(x):\n",
    "    invalid_char=['!','@','#','$','%','^','&','*','(',')','-','_',';',':',',','.','?',' ']\n",
    "    for i in invalid_char:\n",
    "        x=x.replace(i,'')\n",
    "        x=x.lower()\n",
    "    print(\"remove all the invalid chars\")\n",
    "    print(\"string is\",x)\n",
    "string= \"Dr. Darshan Ingle@AI-ML Trainer\"\n",
    "print(\"string is : \",string)\n",
    "remove_char(string)"
   ]
  },
  {
   "cell_type": "code",
   "execution_count": null,
   "metadata": {},
   "outputs": [],
   "source": []
  }
 ],
 "metadata": {
  "kernelspec": {
   "display_name": "Python 3",
   "language": "python",
   "name": "python3"
  },
  "language_info": {
   "codemirror_mode": {
    "name": "ipython",
    "version": 3
   },
   "file_extension": ".py",
   "mimetype": "text/x-python",
   "name": "python",
   "nbconvert_exporter": "python",
   "pygments_lexer": "ipython3",
   "version": "3.7.6"
  }
 },
 "nbformat": 4,
 "nbformat_minor": 4
}
