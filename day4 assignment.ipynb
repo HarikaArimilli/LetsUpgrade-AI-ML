{
 "cells": [
  {
   "cell_type": "markdown",
   "metadata": {},
   "source": [
    "# Question 1"
   ]
  },
  {
   "cell_type": "code",
   "execution_count": 39,
   "metadata": {},
   "outputs": [
    {
     "name": "stdout",
     "output_type": "stream",
     "text": [
      "enter first complex number2+4j\n",
      "enter second complex number3+6j\n",
      "addition of 2 complex numbers : (5+10j)\n",
      "subtraction of 2 complex numbers: (-1-2j)\n",
      "multiplication of 2 complex numbers: (-18+24j)\n",
      "division of 2 complex numbers : (0.6666666666666666+0j)\n"
     ]
    }
   ],
   "source": [
    "def add(num1,num2):\n",
    "    num3=num1+num2\n",
    "    print(\"addition of 2 complex numbers :\",num3)\n",
    "def sub(num1,num2):\n",
    "    num3=num1-num2\n",
    "    print(\"subtraction of 2 complex numbers:\",num3)\n",
    "def multiply(num1,num2):\n",
    "    num3=num1*num2\n",
    "    print(\"multiplication of 2 complex numbers:\",num3)\n",
    "def divide(num1,num2):\n",
    "    num3=num1/num2\n",
    "    print(\"division of 2 complex numbers :\",num3)\n",
    "x=complex(input(\"enter first complex number\"))\n",
    "y=complex(input(\"enter second complex number\"))\n",
    "add(x,y)\n",
    "\n",
    "sub(x,y)\n",
    "\n",
    "multiply(x,y)\n",
    "\n",
    "divide(x,y)\n",
    "##floor divide and modular divison is not possible for complex numbers in python 3\n"
   ]
  },
  {
   "cell_type": "markdown",
   "metadata": {},
   "source": [
    "# Question 2"
   ]
  },
  {
   "cell_type": "markdown",
   "metadata": {},
   "source": [
    "The range function is to generate a sequence of numbers.It is an inbuit function.It is normally to control the repetition of sequence with for and while loops.In simple terms,range() function can be used to generate sequence of numbers with in a given range"
   ]
  },
  {
   "cell_type": "markdown",
   "metadata": {},
   "source": [
    "_range() function can be mostly used in 3 ways_"
   ]
  },
  {
   "cell_type": "markdown",
   "metadata": {},
   "source": [
    "### range(last)"
   ]
  },
  {
   "cell_type": "markdown",
   "metadata": {},
   "source": [
    "### range(first,last)"
   ]
  },
  {
   "cell_type": "markdown",
   "metadata": {},
   "source": [
    "### range(first,last,difference)"
   ]
  },
  {
   "cell_type": "markdown",
   "metadata": {},
   "source": [
    "## Arguments given in function dentoes"
   ]
  },
  {
   "cell_type": "markdown",
   "metadata": {},
   "source": [
    "### first :"
   ]
  },
  {
   "cell_type": "markdown",
   "metadata": {},
   "source": [
    " integer starting from which the sequence of integers is to be returned"
   ]
  },
  {
   "cell_type": "markdown",
   "metadata": {},
   "source": [
    "### last:"
   ]
  },
  {
   "cell_type": "markdown",
   "metadata": {},
   "source": [
    " integer before which the sequence of integers is to be returned.\n",
    "The range of integers end at stop – 1."
   ]
  },
  {
   "cell_type": "markdown",
   "metadata": {},
   "source": [
    "### difference:"
   ]
  },
  {
   "cell_type": "markdown",
   "metadata": {},
   "source": [
    "integer value which determines the increment between each integer in the sequence"
   ]
  },
  {
   "cell_type": "markdown",
   "metadata": {},
   "source": [
    " ### example for each type"
   ]
  },
  {
   "cell_type": "markdown",
   "metadata": {},
   "source": [
    "### 1.range(stop)"
   ]
  },
  {
   "cell_type": "code",
   "execution_count": 12,
   "metadata": {},
   "outputs": [
    {
     "name": "stdout",
     "output_type": "stream",
     "text": [
      "0\n",
      "1\n",
      "2\n",
      "3\n",
      "4\n",
      "5\n",
      "6\n",
      "7\n",
      "8\n",
      "9\n"
     ]
    }
   ],
   "source": [
    "for i in range(10):\n",
    "    print(i)\n"
   ]
  },
  {
   "cell_type": "markdown",
   "metadata": {},
   "source": [
    "### 2.range(start,stop)"
   ]
  },
  {
   "cell_type": "code",
   "execution_count": 13,
   "metadata": {},
   "outputs": [
    {
     "name": "stdout",
     "output_type": "stream",
     "text": [
      "3\n",
      "4\n",
      "5\n",
      "6\n",
      "7\n",
      "8\n",
      "9\n"
     ]
    }
   ],
   "source": [
    "for i in range(3,10):\n",
    "    print(i)"
   ]
  },
  {
   "cell_type": "markdown",
   "metadata": {},
   "source": [
    "### 3.range(first,last,difference)"
   ]
  },
  {
   "cell_type": "code",
   "execution_count": 16,
   "metadata": {},
   "outputs": [
    {
     "name": "stdout",
     "output_type": "stream",
     "text": [
      "1\n",
      "3\n",
      "5\n",
      "7\n",
      "9\n"
     ]
    }
   ],
   "source": [
    "for i in range(1,10,2):\n",
    "    print(i)"
   ]
  },
  {
   "cell_type": "markdown",
   "metadata": {},
   "source": [
    "# Question 3"
   ]
  },
  {
   "cell_type": "code",
   "execution_count": 31,
   "metadata": {},
   "outputs": [
    {
     "name": "stdout",
     "output_type": "stream",
     "text": [
      "enter first number20\n",
      "enter second number30\n",
      "number is lesser than 25\n",
      "division result is : 0.6666666666666666\n"
     ]
    }
   ],
   "source": [
    "x=int(input('enter first number'))\n",
    "y=int(input('enter second number'))\n",
    "z=x-y\n",
    "if z>25:\n",
    "    print(\"number is greaterthan 25\")\n",
    "    print(\"multiplication result is :\",x*y)\n",
    "else:\n",
    "    print(\"number is lesser than 25\")\n",
    "    print(\"division result is :\",x/y)"
   ]
  },
  {
   "cell_type": "markdown",
   "metadata": {},
   "source": [
    "# Question 4"
   ]
  },
  {
   "cell_type": "code",
   "execution_count": 34,
   "metadata": {},
   "outputs": [
    {
     "name": "stdout",
     "output_type": "stream",
     "text": [
      "square of that number minus 2 is : 398\n",
      "square of that number minus 2 is : 898\n",
      "square of that number minus 2 is : 142\n",
      "square of that number minus 2 is : 1022\n",
      "square of that number minus 2 is : 9998\n"
     ]
    }
   ],
   "source": [
    "list=[20,7,5,9,30,12,1,29,32,100]\n",
    "for i in range(len(list)):\n",
    "    if(list[i]%2==0):\n",
    "        print( \"square of that number minus 2 is :\",list[i]**2-2)\n",
    " "
   ]
  },
  {
   "cell_type": "markdown",
   "metadata": {},
   "source": [
    "# Question 5"
   ]
  },
  {
   "cell_type": "code",
   "execution_count": 38,
   "metadata": {},
   "outputs": [
    {
     "name": "stdout",
     "output_type": "stream",
     "text": [
      "20\n",
      "30\n",
      "15\n",
      "24\n",
      "16\n"
     ]
    }
   ],
   "source": [
    "list=[10,20,30,5,15,12,24,11,8,14,16]\n",
    "for i in range(len(list)):\n",
    "    if(list[i]/2>7):\n",
    "        print(list[i])"
   ]
  },
  {
   "cell_type": "code",
   "execution_count": null,
   "metadata": {},
   "outputs": [],
   "source": []
  }
 ],
 "metadata": {
  "kernelspec": {
   "display_name": "Python 3",
   "language": "python",
   "name": "python3"
  },
  "language_info": {
   "codemirror_mode": {
    "name": "ipython",
    "version": 3
   },
   "file_extension": ".py",
   "mimetype": "text/x-python",
   "name": "python",
   "nbconvert_exporter": "python",
   "pygments_lexer": "ipython3",
   "version": "3.7.6"
  }
 },
 "nbformat": 4,
 "nbformat_minor": 4
}
