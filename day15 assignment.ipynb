{
 "cells": [
  {
   "cell_type": "code",
   "execution_count": 1,
   "metadata": {},
   "outputs": [],
   "source": [
    "import numpy as np\n",
    "from numpy import *"
   ]
  },
  {
   "cell_type": "markdown",
   "metadata": {},
   "source": [
    "# 1. Create a 3x3x3 array with random values "
   ]
  },
  {
   "cell_type": "code",
   "execution_count": 2,
   "metadata": {},
   "outputs": [
    {
     "name": "stdout",
     "output_type": "stream",
     "text": [
      "[[[0.41996798 0.96004858 0.5868262 ]\n",
      "  [0.57426767 0.91828539 0.53078514]\n",
      "  [0.23696036 0.63140959 0.93412483]]\n",
      "\n",
      " [[0.65135285 0.84551452 0.45701571]\n",
      "  [0.51287947 0.19896548 0.81064197]\n",
      "  [0.3714872  0.35085623 0.76060496]]\n",
      "\n",
      " [[0.43482665 0.11404681 0.16872077]\n",
      "  [0.60630675 0.2749891  0.34197952]\n",
      "  [0.7814314  0.20725631 0.77536638]]]\n",
      "(3, 3, 3)\n"
     ]
    }
   ],
   "source": [
    "arr=np.random.random((3,3,3))\n",
    "print(arr)\n",
    "print(arr.shape)"
   ]
  },
  {
   "cell_type": "markdown",
   "metadata": {},
   "source": [
    "# 2.Create a 5x5 matrix with values 1,2,3,4 just below the diagonal"
   ]
  },
  {
   "cell_type": "code",
   "execution_count": 3,
   "metadata": {},
   "outputs": [
    {
     "name": "stdout",
     "output_type": "stream",
     "text": [
      "[[1. 0. 0. 0. 0.]\n",
      " [1. 1. 0. 0. 0.]\n",
      " [0. 2. 1. 0. 0.]\n",
      " [0. 0. 3. 1. 0.]\n",
      " [0. 0. 0. 4. 1.]]\n"
     ]
    }
   ],
   "source": [
    "arr=np.eye(5,5)\n",
    "for i in range(1,5):\n",
    "    arr[i,i-1]=i\n",
    "print(arr)\n",
    "    "
   ]
  },
  {
   "cell_type": "markdown",
   "metadata": {},
   "source": [
    "# 3.Create a 8x8 matrix and fill it with a checkerboard pattern"
   ]
  },
  {
   "cell_type": "code",
   "execution_count": 4,
   "metadata": {},
   "outputs": [
    {
     "name": "stdout",
     "output_type": "stream",
     "text": [
      "0 1 0 1 0 1 0 1 \n",
      "1 0 1 0 1 0 1 0 \n",
      "0 1 0 1 0 1 0 1 \n",
      "1 0 1 0 1 0 1 0 \n",
      "0 1 0 1 0 1 0 1 \n",
      "1 0 1 0 1 0 1 0 \n",
      "0 1 0 1 0 1 0 1 \n",
      "1 0 1 0 1 0 1 0 \n"
     ]
    }
   ],
   "source": [
    "x=np.zeros((8,8),dtype=int)\n",
    "x\n",
    "x[1::2,::2]=1\n",
    "x[::2,1::2]=1\n",
    "x\n",
    "for i in range(8):\n",
    "    for j in range(8):\n",
    "        print(x[i][j],end=\" \")\n",
    "    print()"
   ]
  },
  {
   "cell_type": "markdown",
   "metadata": {},
   "source": [
    "# 4. Normalize a 5x5 random matrix"
   ]
  },
  {
   "cell_type": "code",
   "execution_count": 5,
   "metadata": {},
   "outputs": [
    {
     "name": "stdout",
     "output_type": "stream",
     "text": [
      "Intial array is : \n",
      " [[0.95353798 0.9114823  0.70141425 0.77551634 0.10035078]\n",
      " [0.96202304 0.47335903 0.52946126 0.29800002 0.94841076]\n",
      " [0.84434083 0.09081441 0.20841165 0.27353489 0.60023271]\n",
      " [0.28379455 0.02704339 0.56877439 0.35163033 0.65071427]\n",
      " [0.17386813 0.52616499 0.14208111 0.3682986  0.30014853]]\n",
      "Normalised array is :\n",
      "  [[ 0.89838363  0.85632795  0.64625991  0.72036199  0.04519644]\n",
      " [ 0.90686869  0.41820468  0.47430691  0.24284567  0.89325641]\n",
      " [ 0.78918648  0.03566006  0.1532573   0.21838054  0.54507836]\n",
      " [ 0.2286402  -0.02811096  0.51362004  0.29647598  0.59555992]\n",
      " [ 0.11871378  0.47101065  0.08692676  0.31314425  0.24499418]]\n"
     ]
    }
   ],
   "source": [
    "arr=np.random.random((5,5))\n",
    "print(\"Intial array is : \\n\",arr)\n",
    "norm_arr=arr-arr.min()/arr.max()-arr.min()\n",
    "print(\"Normalised array is :\\n \",norm_arr)"
   ]
  },
  {
   "cell_type": "markdown",
   "metadata": {},
   "source": [
    "# 5.  How to find common values between two arrays?"
   ]
  },
  {
   "cell_type": "code",
   "execution_count": 6,
   "metadata": {},
   "outputs": [
    {
     "name": "stdout",
     "output_type": "stream",
     "text": [
      "first array is : [[1 2 3]\n",
      " [4 5 6]\n",
      " [7 8 9]]\n",
      "second array is : [[ 2  4  6]\n",
      " [ 8 10 12]\n",
      " [ 0 14 16]]\n",
      "common values between 2 arrays are : [2 4 6 8]\n"
     ]
    }
   ],
   "source": [
    "arr3=array([[1,2,3],[4,5,6],[7,8,9]])\n",
    "arr4=array([[2,4,6],[8,10,12],[0,14,16]])\n",
    "print(\"first array is :\",arr3)\n",
    "print(\"second array is :\",arr4)\n",
    "x=np.intersect1d(arr3,arr4)\n",
    "print(\"common values between 2 arrays are :\",x)"
   ]
  },
  {
   "cell_type": "markdown",
   "metadata": {},
   "source": [
    "# 6.How to get the dates of yesterday, today and tomorrow?"
   ]
  },
  {
   "cell_type": "code",
   "execution_count": 7,
   "metadata": {},
   "outputs": [
    {
     "name": "stdout",
     "output_type": "stream",
     "text": [
      "today's date is 2020-07-27\n",
      "yesterday's date is 2020-07-26\n",
      "tomorrow's date is 2020-07-28\n"
     ]
    }
   ],
   "source": [
    "from datetime import date,timedelta\n",
    "today=date.today()\n",
    "yesterday=today-timedelta(days=1)\n",
    "tomorrow=today+timedelta(days=1)\n",
    "print(\"today's date is\",today)\n",
    "print(\"yesterday's date is\",yesterday)\n",
    "print(\"tomorrow's date is\",tomorrow)"
   ]
  },
  {
   "cell_type": "markdown",
   "metadata": {},
   "source": [
    "# 7. Consider two random array A and B, check if they are equal"
   ]
  },
  {
   "cell_type": "code",
   "execution_count": 8,
   "metadata": {},
   "outputs": [
    {
     "name": "stdout",
     "output_type": "stream",
     "text": [
      "[[2 3 4]\n",
      " [4 5 6]\n",
      " [7 8 9]]\n",
      "[[ 5  6  7]\n",
      " [ 4 11 12]\n",
      " [13 14 15]]\n"
     ]
    },
    {
     "data": {
      "text/plain": [
       "array([[False, False, False],\n",
       "       [ True, False, False],\n",
       "       [False, False, False]])"
      ]
     },
     "execution_count": 8,
     "metadata": {},
     "output_type": "execute_result"
    }
   ],
   "source": [
    "arr1=array([[2,3,4],[4,5,6],[7,8,9]])\n",
    "arr2=array([[5,6,7],[4,11,12],[13,14,15]])\n",
    "print(arr1)\n",
    "print(arr2)\n",
    "arr1==arr2"
   ]
  },
  {
   "cell_type": "markdown",
   "metadata": {},
   "source": [
    "# 8.Create random vector of size 10 and replace the maximum value by 0 "
   ]
  },
  {
   "cell_type": "code",
   "execution_count": 9,
   "metadata": {},
   "outputs": [
    {
     "name": "stdout",
     "output_type": "stream",
     "text": [
      "Intial vector is : [0.39762477 0.44250004 0.77128075 0.93801158 0.97929842 0.48312567\n",
      " 0.66250546 0.54916639 0.33262095 0.21070555]\n",
      "after replacing with 0 :\n",
      "[0.39762477 0.44250004 0.77128075 0.93801158 0.         0.48312567\n",
      " 0.66250546 0.54916639 0.33262095 0.21070555]\n"
     ]
    }
   ],
   "source": [
    "vect=np.random.random(10)\n",
    "print(\"Intial vector is :\",vect)\n",
    "vect[vect.argmax()]=0\n",
    "print(\"after replacing with 0 :\")\n",
    "print(vect)"
   ]
  },
  {
   "cell_type": "markdown",
   "metadata": {},
   "source": [
    "# 9. How to print all the values of an array?"
   ]
  },
  {
   "cell_type": "code",
   "execution_count": 10,
   "metadata": {},
   "outputs": [
    {
     "name": "stdout",
     "output_type": "stream",
     "text": [
      "2 3 4 5 6 7 8 9 10 "
     ]
    }
   ],
   "source": [
    "arr5=array([[2,3,4],[5,6,7],[8,9,10]])\n",
    "for i in arr5:\n",
    "    for j in i:\n",
    "        print(j,end=\" \")"
   ]
  },
  {
   "cell_type": "markdown",
   "metadata": {},
   "source": [
    "# 10.Subtract the mean of each row of a matrix"
   ]
  },
  {
   "cell_type": "code",
   "execution_count": 11,
   "metadata": {},
   "outputs": [
    {
     "name": "stdout",
     "output_type": "stream",
     "text": [
      "before subtraction array is [[ 2  3  4]\n",
      " [ 5  6  7]\n",
      " [10 11 12]]\n",
      "after subtracting the mean of each row of a matrix: [[-1 -3 -7]\n",
      " [ 2  0 -4]\n",
      " [ 7  5  1]]\n"
     ]
    }
   ],
   "source": [
    "arr6=array([[2,3,4],[5,6,7],[10,11,12]])\n",
    "print(\"before subtraction array is\",arr6)\n",
    "arr6=arr6-arr6.mean(axis=1)\n",
    "arr6.astype(dtype=int)\n",
    "print(\"after subtracting the mean of each row of a matrix:\",arr6.astype(dtype=int))"
   ]
  },
  {
   "cell_type": "markdown",
   "metadata": {},
   "source": [
    "# 11.Consider a given vector, how to add 1 to each element indexed by a second vector (be careful with repeated indices)? "
   ]
  },
  {
   "cell_type": "code",
   "execution_count": 12,
   "metadata": {},
   "outputs": [
    {
     "name": "stdout",
     "output_type": "stream",
     "text": [
      "Original vector : \n",
      "[10 20 30 40 50 60 70 80 90 10] \n",
      "\n",
      "After adding 1 to given indices :\n",
      "[11 20 30 40 50 60 71 80 91 10]\n"
     ]
    }
   ],
   "source": [
    "vet1 = array([10,20,30,40,50,60,70,80,90,10])\n",
    "print(\"Original vector : \")\n",
    "print(vet1,\"\\n\")\n",
    "vet2 = array([0,6,8,6])                  #given indices   in vetor 2\n",
    "\n",
    "for i in np.unique(vet2):                #iterate only on unique indices to avoid multiple time addition\n",
    "    vet1[i] = vet1[i] + 1\n",
    "    \n",
    "    \n",
    "print(\"After adding 1 to given indices :\")\n",
    "print(vet1)"
   ]
  },
  {
   "cell_type": "markdown",
   "metadata": {},
   "source": [
    "# 12.How to get the diagonal of a dot product?"
   ]
  },
  {
   "cell_type": "code",
   "execution_count": 13,
   "metadata": {},
   "outputs": [
    {
     "name": "stdout",
     "output_type": "stream",
     "text": [
      "[[ 84  90  96]\n",
      " [201 216 231]\n",
      " [318 342 366]]\n",
      "diagonal of a dot product is : [ 84 216 366]\n"
     ]
    }
   ],
   "source": [
    "v=array([[1,2,3],[4,5,6],[7,8,9]])\n",
    "u=array([[10,11,12],[13,14,15],[16,17,18]])\n",
    "w=v.dot(u)\n",
    "print(w)\n",
    "print(\"diagonal of a dot product is :\",diagonal(w))"
   ]
  },
  {
   "cell_type": "markdown",
   "metadata": {},
   "source": [
    "# 13.How to find the most frequent value in an array?"
   ]
  },
  {
   "cell_type": "code",
   "execution_count": 14,
   "metadata": {},
   "outputs": [
    {
     "name": "stdout",
     "output_type": "stream",
     "text": [
      "most frequent value is :\n"
     ]
    },
    {
     "data": {
      "text/plain": [
       "4"
      ]
     },
     "execution_count": 14,
     "metadata": {},
     "output_type": "execute_result"
    }
   ],
   "source": [
    "arr7=array([2,3,4,4,5,6,6,7,8,9,4,3,1,2])\n",
    "print(\"most frequent value is :\")\n",
    "freq=(np.bincount(arr7).argmax())\n",
    "freq"
   ]
  },
  {
   "cell_type": "markdown",
   "metadata": {},
   "source": [
    "# 14.How to get the n largest values of an array"
   ]
  },
  {
   "cell_type": "code",
   "execution_count": 15,
   "metadata": {},
   "outputs": [
    {
     "name": "stdout",
     "output_type": "stream",
     "text": [
      "given array is : \n",
      " [ 2  4 10 12 15 17 15 20 25 32]\n",
      "[ 2  4 10 12 15 17 20 25 32]\n",
      "Enter the n value : 2\n",
      "\n",
      "The 2 largest values of given array are :\n",
      "[25 32]\n"
     ]
    }
   ],
   "source": [
    "arr10=array([2,4,10,12,15,17,15,20,25,32])\n",
    "print(\"given array is : \\n\",arr10)\n",
    "new=np.unique(arr10)\n",
    "new1=np.sort(new)\n",
    "print(new1)\n",
    "n = int(input(\"Enter the n value : \"))\n",
    "print(\"\\nThe\",n,\"largest values of given array are :\")\n",
    "print(new1[-n:])"
   ]
  },
  {
   "cell_type": "markdown",
   "metadata": {},
   "source": [
    "# 15.How to create a record array from a regular array?"
   ]
  },
  {
   "cell_type": "code",
   "execution_count": 91,
   "metadata": {},
   "outputs": [
    {
     "name": "stdout",
     "output_type": "stream",
     "text": [
      "Array1 = [1 2 3 4] \n",
      "Array2 = ['apple' 'cherry' 'mango' 'orange'] \n",
      "Array3= ['harika' 'charan' 'bittu' 'lasya']\n",
      "Recorded array is \n",
      "  [(1, 'apple', 'harika') (2, 'cherry', 'charan') (3, 'mango', 'bittu')\n",
      " (4, 'orange', 'lasya')]\n"
     ]
    }
   ],
   "source": [
    "arr1=array([1,2,3,4])\n",
    "arr2=array(['apple','cherry','mango','orange'])\n",
    "arr3=array(['harika','charan','bittu','lasya'])\n",
    "print(\"Array1 =\",arr1,\"\\nArray2 =\",arr2,\"\\nArray3=\",arr3)\n",
    "result=np.core.records.fromarrays([arr1,arr2,arr3])\n",
    "print(\"Recorded array is \\n \",result)"
   ]
  },
  {
   "cell_type": "code",
   "execution_count": null,
   "metadata": {},
   "outputs": [],
   "source": []
  }
 ],
 "metadata": {
  "kernelspec": {
   "display_name": "Python 3",
   "language": "python",
   "name": "python3"
  },
  "language_info": {
   "codemirror_mode": {
    "name": "ipython",
    "version": 3
   },
   "file_extension": ".py",
   "mimetype": "text/x-python",
   "name": "python",
   "nbconvert_exporter": "python",
   "pygments_lexer": "ipython3",
   "version": "3.7.6"
  }
 },
 "nbformat": 4,
 "nbformat_minor": 2
}
