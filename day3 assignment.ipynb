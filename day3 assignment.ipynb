{
 "cells": [
  {
   "cell_type": "markdown",
   "metadata": {},
   "source": [
    " # write a program to subtract 2 complex numbers in python"
   ]
  },
  {
   "cell_type": "code",
   "execution_count": 1,
   "metadata": {},
   "outputs": [
    {
     "name": "stdout",
     "output_type": "stream",
     "text": [
      "(-1-1j)\n"
     ]
    }
   ],
   "source": [
    "num1=3+6j\n",
    "num2=4+7j\n",
    "difference=num1-num2\n",
    "print(difference)"
   ]
  },
  {
   "cell_type": "markdown",
   "metadata": {},
   "source": [
    "user inputs\n"
   ]
  },
  {
   "cell_type": "code",
   "execution_count": 3,
   "metadata": {},
   "outputs": [
    {
     "name": "stdout",
     "output_type": "stream",
     "text": [
      "enter first num5+8j\n",
      "enter second num2+6j\n",
      "(3+2j)\n"
     ]
    }
   ],
   "source": [
    "n1=complex(input(\"enter first num\"))\n",
    "n2=complex(input(\"enter second num\"))\n",
    "sub=n1-n2\n",
    "print(sub)"
   ]
  },
  {
   "cell_type": "markdown",
   "metadata": {},
   "source": [
    "# write a program to find fourth root of number"
   ]
  },
  {
   "cell_type": "code",
   "execution_count": 6,
   "metadata": {},
   "outputs": [
    {
     "name": "stdout",
     "output_type": "stream",
     "text": [
      "enter a number81\n",
      "3.0\n"
     ]
    }
   ],
   "source": [
    "a=int(input('enter a number'))\n",
    "x=a**(1/4)\n",
    "print(x)"
   ]
  },
  {
   "cell_type": "markdown",
   "metadata": {},
   "source": [
    "# Write a program to swap 2 variables with help of temporary variable"
   ]
  },
  {
   "cell_type": "code",
   "execution_count": 9,
   "metadata": {},
   "outputs": [
    {
     "name": "stdout",
     "output_type": "stream",
     "text": [
      "enter first variable20\n",
      "enter second variable30\n",
      "after swapping x,y respectively : 30 20\n"
     ]
    }
   ],
   "source": [
    "x=int(input(\"enter first variable\"))\n",
    "y=int(input(\"enter second variable\"))\n",
    "z=x\n",
    "x=y\n",
    "y=z\n",
    "print(\"after swapping x,y respectively :\",x,y)"
   ]
  },
  {
   "cell_type": "markdown",
   "metadata": {},
   "source": [
    "# Write a program to swap 2 variables without the help of temporary variable"
   ]
  },
  {
   "cell_type": "code",
   "execution_count": 11,
   "metadata": {},
   "outputs": [
    {
     "name": "stdout",
     "output_type": "stream",
     "text": [
      "enter first variable10\n",
      "enter second variable 40\n",
      "after swapping x1 and y1 respectively are 40 10\n"
     ]
    }
   ],
   "source": [
    "x1=int(input('enter first variable'))\n",
    "y1=int(input(\"enter second variable \"))\n",
    "x1,y1=y1,x1\n",
    "print('after swapping x1 and y1 respectively are',x1,y1)"
   ]
  },
  {
   "cell_type": "markdown",
   "metadata": {},
   "source": [
    "## using arithmetic operations"
   ]
  },
  {
   "cell_type": "code",
   "execution_count": 12,
   "metadata": {},
   "outputs": [
    {
     "name": "stdout",
     "output_type": "stream",
     "text": [
      "enter first variable10\n",
      "enter second variable 40\n",
      "after swapping x1 and y1 respectively are 40 10\n"
     ]
    }
   ],
   "source": [
    "x1=int(input('enter first variable'))\n",
    "y1=int(input(\"enter second variable \"))\n",
    "x1=x1+y1\n",
    "y1=x1-y1\n",
    "x1=x1-y1\n",
    "print('after swapping x1 and y1 respectively are',x1,y1)"
   ]
  },
  {
   "cell_type": "markdown",
   "metadata": {},
   "source": [
    " # Write a program to convert fahrenheit to kelvin and celsius both"
   ]
  },
  {
   "cell_type": "code",
   "execution_count": 23,
   "metadata": {},
   "outputs": [
    {
     "name": "stdout",
     "output_type": "stream",
     "text": [
      "enter fahrenheit scale32\n",
      "celsius scale: 0.0\n",
      "kelvin scale  : 273.15\n"
     ]
    }
   ],
   "source": [
    "f=int(input(\"enter fahrenheit scale\"))\n",
    "celsius=(5*(f-32))/9\n",
    "print(\"celsius scale:\",celsius)\n",
    "kelvin=((5*(f-32))/9)+273.15\n",
    "print(\"kelvin scale  :\",kelvin)"
   ]
  },
  {
   "cell_type": "markdown",
   "metadata": {},
   "source": [
    "# write a program to demonstrate all available data types"
   ]
  },
  {
   "cell_type": "code",
   "execution_count": 26,
   "metadata": {},
   "outputs": [
    {
     "name": "stdout",
     "output_type": "stream",
     "text": [
      "type of a: <class 'int'>\n",
      "type of b: <class 'float'>\n",
      "type of c: <class 'complex'>\n",
      "type of d: <class 'str'>\n",
      "type of t : <class 'tuple'>\n",
      "type of l: <class 'list'>\n",
      "type of s: <class 'set'>\n",
      "type of dic: <class 'dict'>\n"
     ]
    }
   ],
   "source": [
    "a=30\n",
    "print(\"type of a:\",type(a))\n",
    "b=16.545\n",
    "print(\"type of b:\",type(b))\n",
    "c=3+4j\n",
    "print(\"type of c:\",type(c))\n",
    "d='Harika'\n",
    "print(\"type of d:\",type(d))\n",
    "t=(2,3,\"bittu\",22.5)\n",
    "print(\"type of t :\",type(t))\n",
    "l=[1,499,'letsupgrade']\n",
    "print(\"type of l:\",type(l))\n",
    "s={2,3,2,45,67}\n",
    "print(\"type of s:\",type(s))\n",
    "dic={a:1,b:2,c:3}\n",
    "print(\"type of dic:\",type(dic))"
   ]
  },
  {
   "cell_type": "markdown",
   "metadata": {},
   "source": [
    "# Creating Github profile"
   ]
  },
  {
   "cell_type": "markdown",
   "metadata": {},
   "source": [
    "## 1.Create a Github public repo and name it LetsUpgrade AI/ML"
   ]
  },
  {
   "cell_type": "markdown",
   "metadata": {},
   "source": [
    "## 2.Upload the files/solution in the repo in day wise manner."
   ]
  },
  {
   "cell_type": "markdown",
   "metadata": {},
   "source": [
    "## 3.Copy the URL of the Folder of that day and paste in the Assignment Submission Form (Google Form)"
   ]
  },
  {
   "cell_type": "markdown",
   "metadata": {},
   "source": [
    "## 4.Copy the URL of the Folder of that day and paste in the Assignment Submission Form (Google Form)"
   ]
  },
  {
   "cell_type": "markdown",
   "metadata": {},
   "source": [
    "## 5.All the drop-downs will be available till the week end only. i.e Previous weeks drop-down will disappear on each Sunday 11:59 PM"
   ]
  },
  {
   "cell_type": "markdown",
   "metadata": {},
   "source": [
    "## 6.You have to submit all the assignment given during the weekdays by respective SUNDAY 11:59 PM IST."
   ]
  },
  {
   "cell_type": "code",
   "execution_count": null,
   "metadata": {},
   "outputs": [],
   "source": []
  }
 ],
 "metadata": {
  "kernelspec": {
   "display_name": "Python 3",
   "language": "python",
   "name": "python3"
  },
  "language_info": {
   "codemirror_mode": {
    "name": "ipython",
    "version": 3
   },
   "file_extension": ".py",
   "mimetype": "text/x-python",
   "name": "python",
   "nbconvert_exporter": "python",
   "pygments_lexer": "ipython3",
   "version": "3.7.6"
  }
 },
 "nbformat": 4,
 "nbformat_minor": 4
}
